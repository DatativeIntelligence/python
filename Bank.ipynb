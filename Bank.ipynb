{
  "nbformat": 4,
  "nbformat_minor": 0,
  "metadata": {
    "colab": {
      "name": "Bank.ipynb",
      "provenance": []
    },
    "kernelspec": {
      "name": "python3",
      "display_name": "Python 3"
    },
    "language_info": {
      "name": "python"
    }
  },
  "cells": [
    {
      "cell_type": "code",
      "execution_count": 1,
      "metadata": {
        "id": "nZWlj6FRAaBc"
      },
      "outputs": [],
      "source": [
        "import pandas as pd\n",
        "import matplotlib.pyplot as plt"
      ]
    },
    {
      "cell_type": "code",
      "source": [
        "'''\n",
        "Interest rate data\n",
        "https://www.bankofengland.co.uk/boeapps/database/Bank-Rate.asp\n",
        "\n",
        "'''\n",
        "\n",
        "#Load the interest data\n",
        "df_rateHistory = pd.read_csv('https://raw.githubusercontent.com/DatativeIntelligence/python/main/Bank%20Rate%20history%20and%20data%20Bank%20of%20England%20Database.csv')\n",
        "\n",
        "#Add a new Year column\n",
        "df_rateHistory['Year'] = pd.to_datetime(df_rateHistory['Date Changed']).dt.year.astype(str)\n",
        "\n",
        "#Get average year rate changes\n",
        "df_yearRate = df_rateHistory.groupby(['Year'])['Rate'].mean().reset_index(name='Interest_Rate')\n",
        "\n",
        "print(df_yearRate.iloc[::-1])"
      ],
      "metadata": {
        "colab": {
          "base_uri": "https://localhost:8080/"
        },
        "id": "fLIo_eSK7Ffb",
        "outputId": "49b84be7-019b-4233-bb42-a74a976f6c85"
      },
      "execution_count": 4,
      "outputs": [
        {
          "output_type": "stream",
          "name": "stdout",
          "text": [
            "    Year  Interest_Rate\n",
            "39  2022       1.050000\n",
            "38  2021       0.250000\n",
            "37  2020       0.175000\n",
            "36  2018       0.750000\n",
            "35  2017       0.500000\n",
            "34  2016       0.250000\n",
            "33  2009       1.000000\n",
            "32  2008       3.950000\n",
            "31  2007       5.500000\n",
            "30  2006       4.875000\n",
            "29  2005       4.500000\n",
            "28  2004       4.375000\n",
            "27  2003       3.666667\n",
            "26  2001       4.964286\n",
            "25  2000       5.875000\n",
            "24  1999       5.416667\n",
            "23  1998       6.937500\n",
            "22  1997       6.750000\n",
            "21  1996       5.925000\n",
            "20  1995       6.505000\n",
            "19  1994       5.630000\n",
            "18  1993       5.630000\n",
            "17  1992       8.380000\n",
            "16  1991      11.880000\n",
            "15  1990      13.880000\n",
            "14  1989      14.020000\n",
            "13  1988       9.463333\n",
            "12  1987       9.380000\n",
            "11  1986      10.963333\n",
            "10  1985      12.522857\n",
            "9   1984      10.023846\n",
            "8   1983       9.928889\n",
            "7   1982      11.887500\n",
            "6   1981      14.161111\n",
            "5   1980      15.000000\n",
            "4   1979      14.000000\n",
            "3   1978       9.041667\n",
            "2   1977       8.960526\n",
            "1   1976      11.678571\n",
            "0   1975      10.846154\n"
          ]
        }
      ]
    },
    {
      "cell_type": "code",
      "source": [
        "#Load the house price data\n",
        "df_housePrice = pd.read_csv('https://raw.githubusercontent.com/DatativeIntelligence/python/main/ukhpi-property-type-pac-united-kingdom-from-2000-01-01-to-2022-06-01.csv')\n",
        "\n",
        "#Add a new Year column\n",
        "df_housePrice['Year'] = pd.to_datetime(df_housePrice['Period']).dt.year.astype(str)\n",
        "\n",
        "#Get annual price changes\n",
        "df_yearPrice = df_housePrice.groupby(['Year'])['Percentage change (yearly) All property types'].mean().reset_index(name='Price_Change')\n",
        "\n",
        "print(df_yearPrice.iloc[::-1])\n"
      ],
      "metadata": {
        "colab": {
          "base_uri": "https://localhost:8080/"
        },
        "id": "nFWH4epe_08q",
        "outputId": "83dfdafd-9707-4d03-e269-780a455f6b82"
      },
      "execution_count": 3,
      "outputs": [
        {
          "output_type": "stream",
          "name": "stdout",
          "text": [
            "    Year  Price_Change\n",
            "22  2022     10.852000\n",
            "21  2021      9.227500\n",
            "20  2020      2.855833\n",
            "19  2019      0.992500\n",
            "18  2018      3.151667\n",
            "17  2017      4.569167\n",
            "16  2016      7.017500\n",
            "15  2015      5.961667\n",
            "14  2014      8.012500\n",
            "13  2013      2.565000\n",
            "12  2012      0.395000\n",
            "11  2011     -1.445833\n",
            "10  2010      5.795000\n",
            "9   2009     -8.550000\n",
            "8   2008     -4.342500\n",
            "7   2007      9.926667\n",
            "6   2006      7.833333\n",
            "5   2005      7.395000\n",
            "4   2004     11.830833\n",
            "3   2003     16.099167\n",
            "2   2002     16.021667\n",
            "1   2001      8.200000\n",
            "0   2000     14.995000\n"
          ]
        }
      ]
    },
    {
      "cell_type": "code",
      "source": [
        "#Merge two dataframes by Year\n",
        "merged_df = pd.merge(df_yearRate, df_yearPrice, \n",
        "                     left_on = 'Year', \n",
        "                     right_on = 'Year', \n",
        "                     how='right')\n",
        "\n",
        "#Fill the NaN interest rate with previous Year rate\n",
        "filled_df = merged_df.fillna(method='ffill')\n",
        "print(filled_df)\n",
        "#filled_df.plot(x ='Year', y='Rate', kind = 'line')\t\n",
        "\n",
        "ax = plt.gca()\n",
        "filled_df.plot(kind='line',x='Year',y='Price_Change',ax=ax)\n",
        "filled_df.plot(kind='bar',x='Year',y='Interest_Rate', color='blue', ax=ax)\n",
        "\n",
        "#add axis labels and a title\n",
        "plt.ylabel('Interest Rate vs House Price Changes', fontsize=10)\n",
        "plt.xlabel('Year', fontsize=10)\n",
        "plt.title('Interest Rate vs House Price Changes - 2000 to 2022', fontsize=12)\n",
        "\n",
        "plt.show()"
      ],
      "metadata": {
        "id": "xhHuapOIACQS",
        "outputId": "309a2c9a-6da7-47c9-ef1e-f99c8db1a414",
        "colab": {
          "base_uri": "https://localhost:8080/",
          "height": 734
        }
      },
      "execution_count": 5,
      "outputs": [
        {
          "output_type": "stream",
          "name": "stdout",
          "text": [
            "    Year  Interest_Rate  Price_Change\n",
            "0   2000       5.875000     14.995000\n",
            "1   2001       4.964286      8.200000\n",
            "2   2002       4.964286     16.021667\n",
            "3   2003       3.666667     16.099167\n",
            "4   2004       4.375000     11.830833\n",
            "5   2005       4.500000      7.395000\n",
            "6   2006       4.875000      7.833333\n",
            "7   2007       5.500000      9.926667\n",
            "8   2008       3.950000     -4.342500\n",
            "9   2009       1.000000     -8.550000\n",
            "10  2010       1.000000      5.795000\n",
            "11  2011       1.000000     -1.445833\n",
            "12  2012       1.000000      0.395000\n",
            "13  2013       1.000000      2.565000\n",
            "14  2014       1.000000      8.012500\n",
            "15  2015       1.000000      5.961667\n",
            "16  2016       0.250000      7.017500\n",
            "17  2017       0.500000      4.569167\n",
            "18  2018       0.750000      3.151667\n",
            "19  2019       0.750000      0.992500\n",
            "20  2020       0.175000      2.855833\n",
            "21  2021       0.250000      9.227500\n",
            "22  2022       1.050000     10.852000\n"
          ]
        },
        {
          "output_type": "display_data",
          "data": {
            "text/plain": [
              "<Figure size 432x288 with 1 Axes>"
            ],
            "image/png": "[encoded data removed]"
          },
          "metadata": {
            "needs_background": "light"
          }
        }
      ]
    }
  ]
}